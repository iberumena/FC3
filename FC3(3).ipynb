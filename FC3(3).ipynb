{
  "nbformat": 4,
  "nbformat_minor": 0,
  "metadata": {
    "colab": {
      "provenance": []
    },
    "kernelspec": {
      "name": "python3",
      "display_name": "Python 3"
    },
    "language_info": {
      "name": "python"
    }
  },
  "cells": [
    {
      "cell_type": "code",
      "execution_count": 15,
      "metadata": {
        "id": "VCoFItWmTAA2"
      },
      "outputs": [],
      "source": [
        "import random\n",
        "import networkx as nx\n",
        "\n",
        "G = nx.Graph()\n",
        "\n",
        "# Agregar las conexiones entre ciudades al grafo\n",
        "connections = [\n",
        "    ('El Rosario', 'Instituto del petroleo', 6),\n",
        "    ('El Rosario', 'Tacuba', 4),\n",
        "    ('Instituto del Petroleo', 'El Rosario', 6),\n",
        "    ('Instituto del Petroleo', 'La Raza', 2),\n",
        "    ('Instituto del Petroleo', 'Politecnico', 1),\n",
        "    ('Instituto del Petroleo', 'Deportivo 18', 2),\n",
        "    ('Deportivo 18', 'Instituto del Petroleo', 2),\n",
        "    ('Deportivo 18', 'Indios Verdes', 1),\n",
        "    ('Deportivo 18', 'Martin Carrera', 2),\n",
        "    ('Martin Carrera', 'Deportivo 18', 2),\n",
        "    ('Martin Carrera', 'Consulado', 3),\n",
        "    ('Tacuba', 'El Rosario', 4),\n",
        "    ('Tacuba', 'Cuatro Caminos', 1),\n",
        "    ('Tacuba', 'Hidalgo', 7),\n",
        "    ('Tacuba', 'Tacubaya', 5),\n",
        "    ('Cuatro Caminos', 'Tacuba', 1),\n",
        "    ('Hidalgo', 'Tacuba', 7),\n",
        "    ('Hidalgo', 'Guerrero', 1),\n",
        "    ('Hidalgo', 'Bellas Artes', 1),\n",
        "    ('Hidalgo', 'Balderas', 2),\n",
        "    ('Bellas Artes', 'Hidalgo', 1),\n",
        "    ('Bellas Artes', 'Pino Suarez', 3),\n",
        "    ('Bellas Artes', 'Garibaldi', 1),\n",
        "    ('Bellas Artes', 'Salto del Agua', 2),\n",
        "    ('Pino Suarez', 'Bellas Artes', 3),\n",
        "    ('Pino Suarez', 'Salto del Agua', 2),\n",
        "    ('Pino Suarez', 'Candelaria', 2),\n",
        "    ('Pino Suarez', 'Chabacano', 2),\n",
        "    ('Chabacano', 'Pino Suarez', 2),\n",
        "    ('Chabacano', 'Centro Medico', 2),\n",
        "    ('Chabacano', 'Jamaica', 1),\n",
        "    ('Chabacano', 'Ermita', 6),\n",
        "    ('Ermita', 'Chabacano', 6),\n",
        "    ('Ermita', 'Zapata', 3),\n",
        "    ('Ermita', 'Atlalilco', 2),\n",
        "    ('Ermita', 'Tasquena', 1),\n",
        "    ('Tasquena', 'Ermita', 1),\n",
        "    ('Tacubaya', 'Tacuba', 5),\n",
        "    ('Tacubaya', 'Balderas', 6),\n",
        "    ('Tacubaya', 'Centro Medico', 3),\n",
        "    ('Tacubaya', 'Mixcoac', 3),\n",
        "    ('Balderas', 'Tacubaya', 6),\n",
        "    ('Balderas', 'Hidalgo', 2),\n",
        "    ('Balderas', 'Salto del Agua', 1),\n",
        "    ('Balderas', 'Centro Medico', 3),\n",
        "    ('Salto del Agua', 'Balderas', 1),\n",
        "    ('Salto del Agua', 'Bellas Artes', 2),\n",
        "    ('Salto del Agua', 'Pino Suarez', 2),\n",
        "    ('Salto del Agua', 'Chabacano', 3),\n",
        "    ('Candelaria', 'Pino Suarez', 2),\n",
        "    ('Candelaria', 'Morelos', 1),\n",
        "    ('Candelaria', 'San Lazaro', 1),\n",
        "    ('Candelaria', 'Jamaica', 2),\n",
        "    ('San Lazaro', 'Candelaria', 1),\n",
        "    ('San Lazaro', 'Morelos', 1),\n",
        "    ('San Lazaro', 'Oceania', 3),\n",
        "    ('San Lazaro', 'Pantitlan', 6),\n",
        "    ('Pantitlan', 'Oceania', 3),\n",
        "    ('Pantitlan', 'San Lazaro', 6),\n",
        "    ('Pantitlan', 'Jamaica', 5),\n",
        "    ('Indios Verdes', 'Deportivo 18', 1),\n",
        "    ('La Raza', 'Instituto del Petroleo', 2),\n",
        "    ('La Raza', 'Deportivo 18', 2),\n",
        "    ('La Raza', 'Consulado', 3),\n",
        "    ('La Raza', 'Guerrero', 2),\n",
        "    ('Guerrero', 'La Raza', 2),\n",
        "    ('Guerrero', 'Garibaldi', 1),\n",
        "    ('Guerrero', 'Hidalgo', 1),\n",
        "    ('Zapata', 'Centro Medico', 4),\n",
        "    ('Zapata', 'Ermita', 3),\n",
        "    ('Zapata', 'Universidad', 2),\n",
        "    ('Zapata', 'Mixcoac', 3),\n",
        "    ('Garibaldi', 'Guerrero', 1),\n",
        "    ('Garibaldi', 'Morelos', 3),\n",
        "    ('Garibaldi', 'Bellas Artes', 1),\n",
        "    ('Atlalilco', 'Chabacano', 8),\n",
        "    ('Atlalilco', 'Ermita', 2),\n",
        "    ('Jamaica', 'Chabacano', 1),\n",
        "    ('Jamaica', 'Candelaria', 2),\n",
        "    ('Jamaica', 'Pantitlan', 5),\n",
        "    ('Oceania', 'San Lazaro', 3),\n",
        "    ('Oceania', 'Consulado', 3),\n",
        "    ('Oceania', 'Pantitlan', 3),\n",
        "    ('Morelos', 'Garibaldi', 3),\n",
        "    ('Morelos', 'Consulado', 2),\n",
        "    ('Morelos', 'San Lazaro', 1),\n",
        "    ('Morelos', 'Candelaria', 1),\n",
        "    ('Consulado', 'La Raza', 3),\n",
        "    ('Consulado', 'Martin Carrera', 3),\n",
        "    ('Consulado', 'Oceania', 3),\n",
        "    ('Consulado', 'Morelos', 2),\n",
        "    ('Centro Medico', 'Tacubaya', 3),\n",
        "    ('Centro Medico', 'Balderas', 3),\n",
        "    ('Centro Medico', 'Chabacano', 2),\n",
        "    ('Centro Medico', 'Zapata', 4),\n",
        "    ('Mixcoac', 'Tacubaya', 3),\n",
        "    ('Mixcoac', 'Zapata', 3),\n",
        "]\n",
        "\n",
        "G.add_weighted_edges_from(connections)\n",
        "\n",
        "# Ciudad inicial y ciudad objetivo\n",
        "start_city = 'El Rosario'\n",
        "goal_city = 'San Lazaro'"
      ]
    },
    {
      "cell_type": "code",
      "source": [
        "def fitness(route): # Funcion para calcular distancias de las rutas\n",
        "    if len(route) < 2:\n",
        "        return float('-inf')\n",
        "\n",
        "    total_distance = 0\n",
        "    for i in range(len(route) - 1):\n",
        "        current_city = route[i]\n",
        "        next_city = route[i + 1]\n",
        "        if current_city not in G.nodes() or next_city not in G.nodes():\n",
        "            return float('-inf')\n",
        "        if not G.has_edge(current_city, next_city):\n",
        "            return float('-inf')\n",
        "        total_distance += G[current_city][next_city]['weight']\n",
        "    return -total_distance\n",
        "\n",
        "\n",
        "def crossover(parent1, parent2): # Función de cruce que toma dos padres y produce dos hijos\n",
        "    crossover_point = random.randint(1, len(parent1) - 2)\n",
        "    child1 = parent1[:crossover_point] + [city for city in parent2 if city not in parent1[:crossover_point]]\n",
        "    child2 = parent2[:crossover_point] + [city for city in parent1 if city not in parent2[:crossover_point]]\n",
        "    return child1, child2\n",
        "\n",
        "def mutate(route, mutation_rate): # Función de mutación que cambia dos ciudades de lugar en la ruta con una cierta probabilidad\n",
        "    if random.random() < mutation_rate:\n",
        "        mutation_point1 = random.randint(0, len(route) - 1)\n",
        "        mutation_point2 = random.randint(0, len(route) - 1)\n",
        "        route[mutation_point1], route[mutation_point2] = route[mutation_point2], route[mutation_point1]\n",
        "    return route\n",
        "\n",
        "def genetic_algorithm(population_size, mutation_rate, generations): # Función principal que ejecuta el algoritmo genético para encontrar la ruta más corta\n",
        "    population = [random.sample(G.nodes(), len(G.nodes())) for _ in range(population_size)]\n",
        "\n",
        "    for generation in range(generations):\n",
        "        population = sorted(population, key=lambda x: fitness(x))\n",
        "        selected_parents = population[:population_size // 2]\n",
        "\n",
        "        offspring = []\n",
        "        while len(offspring) < population_size - len(selected_parents):\n",
        "            parent1, parent2 = random.choices(selected_parents, k=2)\n",
        "            child1, child2 = crossover(parent1, parent2)\n",
        "            offspring.extend([mutate(child1, mutation_rate), mutate(child2, mutation_rate)])\n",
        "\n",
        "        population = selected_parents + offspring\n",
        "\n",
        "    return sorted(population, key=lambda x: fitness(x))[0]\n",
        "\n",
        "best_route = genetic_algorithm(population_size=100, mutation_rate=0.01, generations=1000)"
      ],
      "metadata": {
        "colab": {
          "base_uri": "https://localhost:8080/"
        },
        "id": "KpaKg_sFG8Kc",
        "outputId": "dd55f741-d38f-49c3-ed66-9f16a343e928"
      },
      "execution_count": 45,
      "outputs": [
        {
          "output_type": "stream",
          "name": "stderr",
          "text": [
            "<ipython-input-45-303c5d86299b>:31: DeprecationWarning: Sampling from a set deprecated\n",
            "since Python 3.9 and will be removed in a subsequent version.\n",
            "  population = [random.sample(G.nodes(), len(G.nodes())) for _ in range(population_size)]\n"
          ]
        }
      ]
    },
    {
      "cell_type": "code",
      "source": [
        "print(\"Mejor ruta encontrada:\", best_route)\n",
        "print(\"Distancia total:\", -fitness(best_route))"
      ],
      "metadata": {
        "colab": {
          "base_uri": "https://localhost:8080/"
        },
        "id": "9HiQnC0zJXne",
        "outputId": "f4c1e877-f43f-49e8-d295-ba5a23a35563"
      },
      "execution_count": 49,
      "outputs": [
        {
          "output_type": "stream",
          "name": "stdout",
          "text": [
            "Mejor ruta encontrada: ['El Rosario', 'Instituto del Petroleo', 'La Raza', 'Consulado', 'Morelos', 'San Lazaro']\n",
            "Distancia total: 14\n"
          ]
        }
      ]
    }
  ]
}